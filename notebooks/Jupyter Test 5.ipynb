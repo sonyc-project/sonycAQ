{
 "cells": [
  {
   "cell_type": "markdown",
   "id": "1e10e319",
   "metadata": {},
   "source": [
    "# Test Larger Data Set"
   ]
  },
  {
   "cell_type": "markdown",
   "id": "274c755a",
   "metadata": {},
   "source": [
    "This notebook imports 3.5 hours worth of data and computes some hourly averages."
   ]
  },
  {
   "cell_type": "markdown",
   "id": "88b517c4",
   "metadata": {},
   "source": [
    "## Table of Contents:\n",
    "* [Import Data](#Header-1)\n",
    "* [Organize Data and Plot](#Header-2)"
   ]
  },
  {
   "cell_type": "code",
   "execution_count": 2,
   "id": "56a6acba",
   "metadata": {},
   "outputs": [],
   "source": [
    "import pandas as pd\n",
    "import matplotlib.pyplot as plt\n",
    "import os"
   ]
  },
  {
   "cell_type": "markdown",
   "id": "9b4fdf68",
   "metadata": {},
   "source": [
    "## Import Data <a class=\"anchor\" id=\"Header-1\"></a>"
   ]
  },
  {
   "cell_type": "markdown",
   "id": "e04e6808",
   "metadata": {},
   "source": [
    "Get all filenames from directory and assemble array of paths:"
   ]
  },
  {
   "cell_type": "code",
   "execution_count": 3,
   "id": "8fea67db",
   "metadata": {},
   "outputs": [],
   "source": [
    "directory = os.listdir(r'C:\\Users\\vendi\\Desktop\\Internships and Work\\NYU\\Test Data\\Longitudinal 07-05')\n",
    "j = 0\n",
    "data = [''] * len(directory)\n",
    "for i in directory:\n",
    "    path = r'C:\\Users\\vendi\\Desktop\\Internships and Work\\NYU\\Test Data\\Longitudinal 07-05' + \"\\\\\" + i\n",
    "    data[j] = pd.read_csv(path)\n",
    "    j = j + 1"
   ]
  },
  {
   "cell_type": "markdown",
   "id": "6fdb52fb",
   "metadata": {},
   "source": [
    "Put all tables together into one datastructure: "
   ]
  },
  {
   "cell_type": "code",
   "execution_count": 24,
   "id": "a11d007a",
   "metadata": {},
   "outputs": [],
   "source": [
    "table = pd.concat([data[0], data[1]], ignore_index=True)\n",
    "for i in range(2,len(data)):\n",
    "    table = pd.concat([table,data[i]],ignore_index=True)"
   ]
  },
  {
   "cell_type": "markdown",
   "id": "d6dfb9c3",
   "metadata": {},
   "source": [
    "Set datatime as a date/time object:"
   ]
  },
  {
   "cell_type": "code",
   "execution_count": 35,
   "id": "3f629f6f",
   "metadata": {
    "scrolled": true
   },
   "outputs": [],
   "source": [
    "table[\"datetime\"] = pd.to_datetime(table[\"datetime\"],unit='s',origin='unix')"
   ]
  },
  {
   "cell_type": "markdown",
   "id": "18dced33",
   "metadata": {},
   "source": [
    "## Organize Data and Plot <a class=\"anchor\" id=\"Header-2\"></a>"
   ]
  },
  {
   "cell_type": "markdown",
   "id": "644b216a",
   "metadata": {},
   "source": [
    "Find hourly average of PM2.5 values and plot in bar graph:"
   ]
  },
  {
   "cell_type": "code",
   "execution_count": 34,
   "id": "321bcf9b",
   "metadata": {
    "scrolled": false
   },
   "outputs": [
    {
     "data": {
      "text/plain": [
       "Text(0.5, 1.0, 'Average PM2.5 Concentration Per Hour During Test')"
      ]
     },
     "execution_count": 34,
     "metadata": {},
     "output_type": "execute_result"
    },
    {
     "data": {
      "image/png": "[encoded data removed]",
      "text/plain": [
       "<Figure size 432x288 with 1 Axes>"
      ]
     },
     "metadata": {
      "needs_background": "light"
     },
     "output_type": "display_data"
    }
   ],
   "source": [
    "table.groupby(table[\"datetime\"].dt.hour)[\"PM2.5\"].mean().plot(kind='bar')\n",
    "plt.xlabel('Hour (UTC)')\n",
    "plt.ylabel('ug/m^3')\n",
    "plt.title(\"Average PM2.5 Concentration Per Hour During Test\")"
   ]
  },
  {
   "cell_type": "markdown",
   "id": "647f0640",
   "metadata": {},
   "source": [
    "Find hourly average of PC2.5 values and plot in bar graph"
   ]
  },
  {
   "cell_type": "code",
   "execution_count": 36,
   "id": "243d0029",
   "metadata": {},
   "outputs": [
    {
     "data": {
      "text/plain": [
       "Text(0.5, 1.0, 'Average PC2.5 Concentration Per Hour During Test')"
      ]
     },
     "execution_count": 36,
     "metadata": {},
     "output_type": "execute_result"
    },
    {
     "data": {
      "image/png": "[encoded data removed]",
      "text/plain": [
       "<Figure size 432x288 with 1 Axes>"
      ]
     },
     "metadata": {
      "needs_background": "light"
     },
     "output_type": "display_data"
    }
   ],
   "source": [
    "table.groupby(table[\"datetime\"].dt.hour)[\"PC2.5\"].mean().plot(kind='bar')\n",
    "plt.xlabel('Hour (UTC)')\n",
    "plt.ylabel('#/L')\n",
    "plt.title(\"Average PC2.5 Concentration Per Hour During Test\")"
   ]
  }
 ],
 "metadata": {
  "kernelspec": {
   "display_name": "Python 3",
   "language": "python",
   "name": "python3"
  },
  "language_info": {
   "codemirror_mode": {
    "name": "ipython",
    "version": 3
   },
   "file_extension": ".py",
   "mimetype": "text/x-python",
   "name": "python",
   "nbconvert_exporter": "python",
   "pygments_lexer": "ipython3",
   "version": "3.8.8"
  }
 },
 "nbformat": 4,
 "nbformat_minor": 5
}
